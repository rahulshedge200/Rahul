{
 "cells": [
  {
   "cell_type": "code",
   "execution_count": 1,
   "id": "fc7a9eba-5e70-491b-99f4-579b7dcad9b0",
   "metadata": {},
   "outputs": [
    {
     "name": "stdout",
     "output_type": "stream",
     "text": [
      "Helloo World!!\n"
     ]
    }
   ],
   "source": [
    "print(\"Helloo World!!\")"
   ]
  },
  {
   "cell_type": "code",
   "execution_count": 2,
   "id": "39d9daf9-36d0-484d-afa7-126c26f8f191",
   "metadata": {},
   "outputs": [
    {
     "name": "stdout",
     "output_type": "stream",
     "text": [
      "Machine Learning\n"
     ]
    }
   ],
   "source": [
    "print(\"Machine Learning\")"
   ]
  },
  {
   "cell_type": "code",
   "execution_count": 3,
   "id": "c234ea4c-d258-42fd-bba5-78be64db5385",
   "metadata": {},
   "outputs": [
    {
     "data": {
      "text/plain": [
       "0"
      ]
     },
     "execution_count": 3,
     "metadata": {},
     "output_type": "execute_result"
    }
   ],
   "source": [
    "2+2-4"
   ]
  },
  {
   "cell_type": "code",
   "execution_count": null,
   "id": "1135a74d-89a0-4cca-9080-068fb03a7195",
   "metadata": {},
   "outputs": [],
   "source": []
  }
 ],
 "metadata": {
  "kernelspec": {
   "display_name": "Python 3 (ipykernel)",
   "language": "python",
   "name": "python3"
  },
  "language_info": {
   "codemirror_mode": {
    "name": "ipython",
    "version": 3
   },
   "file_extension": ".py",
   "mimetype": "text/x-python",
   "name": "python",
   "nbconvert_exporter": "python",
   "pygments_lexer": "ipython3",
   "version": "3.11.7"
  }
 },
 "nbformat": 4,
 "nbformat_minor": 5
}
